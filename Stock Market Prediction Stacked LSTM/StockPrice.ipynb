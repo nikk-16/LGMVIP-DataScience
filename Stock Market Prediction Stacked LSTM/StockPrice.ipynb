{
 "cells": [
  {
   "cell_type": "markdown",
   "metadata": {},
   "source": [
    "# **Stock Price Prediction using Stacked LSTM-Task-2**\n",
    "LGMVIP DATA SCIENCE INTERNSHIP"
   ]
  },
  {
   "cell_type": "markdown",
   "metadata": {},
   "source": [
    "Here we will be reading some basic libraries"
   ]
  },
  {
   "cell_type": "code",
   "execution_count": 94,
   "metadata": {},
   "outputs": [],
   "source": [
    "import numpy as np\n",
    "import pandas as pd\n"
   ]
  },
  {
   "cell_type": "markdown",
   "metadata": {},
   "source": [
    "Read dataset which was given <br> \n",
    "Link- \"https://raw.githubusercontent.com/mwitiderrick/stockprice/master/NSE-TATAGLOBAL.csv\"\n"
   ]
  },
  {
   "cell_type": "markdown",
   "metadata": {},
   "source": []
  },
  {
   "cell_type": "code",
   "execution_count": 95,
   "metadata": {},
   "outputs": [
    {
     "data": {
      "text/html": [
       "<div>\n",
       "<style scoped>\n",
       "    .dataframe tbody tr th:only-of-type {\n",
       "        vertical-align: middle;\n",
       "    }\n",
       "\n",
       "    .dataframe tbody tr th {\n",
       "        vertical-align: top;\n",
       "    }\n",
       "\n",
       "    .dataframe thead th {\n",
       "        text-align: right;\n",
       "    }\n",
       "</style>\n",
       "<table border=\"1\" class=\"dataframe\">\n",
       "  <thead>\n",
       "    <tr style=\"text-align: right;\">\n",
       "      <th></th>\n",
       "      <th>Date</th>\n",
       "      <th>Open</th>\n",
       "      <th>High</th>\n",
       "      <th>Low</th>\n",
       "      <th>Last</th>\n",
       "      <th>Close</th>\n",
       "      <th>Total Trade Quantity</th>\n",
       "      <th>Turnover (Lacs)</th>\n",
       "    </tr>\n",
       "  </thead>\n",
       "  <tbody>\n",
       "    <tr>\n",
       "      <th>0</th>\n",
       "      <td>2018-09-28</td>\n",
       "      <td>234.05</td>\n",
       "      <td>235.95</td>\n",
       "      <td>230.20</td>\n",
       "      <td>233.50</td>\n",
       "      <td>233.75</td>\n",
       "      <td>3069914</td>\n",
       "      <td>7162.35</td>\n",
       "    </tr>\n",
       "    <tr>\n",
       "      <th>1</th>\n",
       "      <td>2018-09-27</td>\n",
       "      <td>234.55</td>\n",
       "      <td>236.80</td>\n",
       "      <td>231.10</td>\n",
       "      <td>233.80</td>\n",
       "      <td>233.25</td>\n",
       "      <td>5082859</td>\n",
       "      <td>11859.95</td>\n",
       "    </tr>\n",
       "    <tr>\n",
       "      <th>2</th>\n",
       "      <td>2018-09-26</td>\n",
       "      <td>240.00</td>\n",
       "      <td>240.00</td>\n",
       "      <td>232.50</td>\n",
       "      <td>235.00</td>\n",
       "      <td>234.25</td>\n",
       "      <td>2240909</td>\n",
       "      <td>5248.60</td>\n",
       "    </tr>\n",
       "    <tr>\n",
       "      <th>3</th>\n",
       "      <td>2018-09-25</td>\n",
       "      <td>233.30</td>\n",
       "      <td>236.75</td>\n",
       "      <td>232.00</td>\n",
       "      <td>236.25</td>\n",
       "      <td>236.10</td>\n",
       "      <td>2349368</td>\n",
       "      <td>5503.90</td>\n",
       "    </tr>\n",
       "    <tr>\n",
       "      <th>4</th>\n",
       "      <td>2018-09-24</td>\n",
       "      <td>233.55</td>\n",
       "      <td>239.20</td>\n",
       "      <td>230.75</td>\n",
       "      <td>234.00</td>\n",
       "      <td>233.30</td>\n",
       "      <td>3423509</td>\n",
       "      <td>7999.55</td>\n",
       "    </tr>\n",
       "    <tr>\n",
       "      <th>...</th>\n",
       "      <td>...</td>\n",
       "      <td>...</td>\n",
       "      <td>...</td>\n",
       "      <td>...</td>\n",
       "      <td>...</td>\n",
       "      <td>...</td>\n",
       "      <td>...</td>\n",
       "      <td>...</td>\n",
       "    </tr>\n",
       "    <tr>\n",
       "      <th>2030</th>\n",
       "      <td>2010-07-27</td>\n",
       "      <td>117.60</td>\n",
       "      <td>119.50</td>\n",
       "      <td>112.00</td>\n",
       "      <td>118.80</td>\n",
       "      <td>118.65</td>\n",
       "      <td>586100</td>\n",
       "      <td>694.98</td>\n",
       "    </tr>\n",
       "    <tr>\n",
       "      <th>2031</th>\n",
       "      <td>2010-07-26</td>\n",
       "      <td>120.10</td>\n",
       "      <td>121.00</td>\n",
       "      <td>117.10</td>\n",
       "      <td>117.10</td>\n",
       "      <td>117.60</td>\n",
       "      <td>658440</td>\n",
       "      <td>780.01</td>\n",
       "    </tr>\n",
       "    <tr>\n",
       "      <th>2032</th>\n",
       "      <td>2010-07-23</td>\n",
       "      <td>121.80</td>\n",
       "      <td>121.95</td>\n",
       "      <td>120.25</td>\n",
       "      <td>120.35</td>\n",
       "      <td>120.65</td>\n",
       "      <td>281312</td>\n",
       "      <td>340.31</td>\n",
       "    </tr>\n",
       "    <tr>\n",
       "      <th>2033</th>\n",
       "      <td>2010-07-22</td>\n",
       "      <td>120.30</td>\n",
       "      <td>122.00</td>\n",
       "      <td>120.25</td>\n",
       "      <td>120.75</td>\n",
       "      <td>120.90</td>\n",
       "      <td>293312</td>\n",
       "      <td>355.17</td>\n",
       "    </tr>\n",
       "    <tr>\n",
       "      <th>2034</th>\n",
       "      <td>2010-07-21</td>\n",
       "      <td>122.10</td>\n",
       "      <td>123.00</td>\n",
       "      <td>121.05</td>\n",
       "      <td>121.10</td>\n",
       "      <td>121.55</td>\n",
       "      <td>658666</td>\n",
       "      <td>803.56</td>\n",
       "    </tr>\n",
       "  </tbody>\n",
       "</table>\n",
       "<p>2035 rows × 8 columns</p>\n",
       "</div>"
      ],
      "text/plain": [
       "            Date    Open    High     Low    Last   Close  \\\n",
       "0     2018-09-28  234.05  235.95  230.20  233.50  233.75   \n",
       "1     2018-09-27  234.55  236.80  231.10  233.80  233.25   \n",
       "2     2018-09-26  240.00  240.00  232.50  235.00  234.25   \n",
       "3     2018-09-25  233.30  236.75  232.00  236.25  236.10   \n",
       "4     2018-09-24  233.55  239.20  230.75  234.00  233.30   \n",
       "...          ...     ...     ...     ...     ...     ...   \n",
       "2030  2010-07-27  117.60  119.50  112.00  118.80  118.65   \n",
       "2031  2010-07-26  120.10  121.00  117.10  117.10  117.60   \n",
       "2032  2010-07-23  121.80  121.95  120.25  120.35  120.65   \n",
       "2033  2010-07-22  120.30  122.00  120.25  120.75  120.90   \n",
       "2034  2010-07-21  122.10  123.00  121.05  121.10  121.55   \n",
       "\n",
       "      Total Trade Quantity  Turnover (Lacs)  \n",
       "0                  3069914          7162.35  \n",
       "1                  5082859         11859.95  \n",
       "2                  2240909          5248.60  \n",
       "3                  2349368          5503.90  \n",
       "4                  3423509          7999.55  \n",
       "...                    ...              ...  \n",
       "2030                586100           694.98  \n",
       "2031                658440           780.01  \n",
       "2032                281312           340.31  \n",
       "2033                293312           355.17  \n",
       "2034                658666           803.56  \n",
       "\n",
       "[2035 rows x 8 columns]"
      ]
     },
     "execution_count": 95,
     "metadata": {},
     "output_type": "execute_result"
    }
   ],
   "source": [
    "dataset=pd.read_csv(\"/Users/nikhil/Documents/LGMVIP data science Internship/Stock Market Prediction Stacked LSTM/NSE-TATAGLOBAL.csv\")\n",
    "dataset"
   ]
  },
  {
   "cell_type": "code",
   "execution_count": 96,
   "metadata": {},
   "outputs": [
    {
     "data": {
      "text/plain": [
       "(2035, 8)"
      ]
     },
     "execution_count": 96,
     "metadata": {},
     "output_type": "execute_result"
    }
   ],
   "source": [
    "dataset.shape"
   ]
  },
  {
   "cell_type": "code",
   "execution_count": 97,
   "metadata": {},
   "outputs": [
    {
     "data": {
      "text/plain": [
       "Date                    False\n",
       "Open                    False\n",
       "High                    False\n",
       "Low                     False\n",
       "Last                    False\n",
       "Close                   False\n",
       "Total Trade Quantity    False\n",
       "Turnover (Lacs)         False\n",
       "dtype: bool"
      ]
     },
     "execution_count": 97,
     "metadata": {},
     "output_type": "execute_result"
    }
   ],
   "source": [
    "dataset.isnull().any()"
   ]
  },
  {
   "cell_type": "code",
   "execution_count": 98,
   "metadata": {},
   "outputs": [],
   "source": [
    "dataframe=dataset.reset_index()['Close']\n",
    "\n",
    "# dataset['Date']"
   ]
  },
  {
   "cell_type": "code",
   "execution_count": 99,
   "metadata": {},
   "outputs": [
    {
     "data": {
      "text/plain": [
       "0       233.75\n",
       "1       233.25\n",
       "2       234.25\n",
       "3       236.10\n",
       "4       233.30\n",
       "         ...  \n",
       "2030    118.65\n",
       "2031    117.60\n",
       "2032    120.65\n",
       "2033    120.90\n",
       "2034    121.55\n",
       "Name: Close, Length: 2035, dtype: float64"
      ]
     },
     "execution_count": 99,
     "metadata": {},
     "output_type": "execute_result"
    }
   ],
   "source": [
    "dataframe"
   ]
  },
  {
   "cell_type": "code",
   "execution_count": 100,
   "metadata": {},
   "outputs": [
    {
     "data": {
      "text/plain": [
       "(2035,)"
      ]
     },
     "execution_count": 100,
     "metadata": {},
     "output_type": "execute_result"
    }
   ],
   "source": [
    "dataframe.shape"
   ]
  },
  {
   "cell_type": "code",
   "execution_count": 101,
   "metadata": {},
   "outputs": [],
   "source": [
    "import matplotlib.pyplot as plt"
   ]
  },
  {
   "cell_type": "code",
   "execution_count": 102,
   "metadata": {},
   "outputs": [
    {
     "data": {
      "text/plain": [
       "[<matplotlib.lines.Line2D at 0x17bab8040>]"
      ]
     },
     "execution_count": 102,
     "metadata": {},
     "output_type": "execute_result"
    },
    {
     "data": {
      "image/png": "[encoded data removed]",
      "text/plain": [
       "<Figure size 768x480 with 1 Axes>"
      ]
     },
     "metadata": {
      "needs_background": "light"
     },
     "output_type": "display_data"
    }
   ],
   "source": [
    "plt.figure(figsize=(16/1.5,10/1.5))\n",
    "plt.plot(dataframe,)"
   ]
  },
  {
   "cell_type": "markdown",
   "metadata": {},
   "source": [
    "Feature scaling for this data , we are using Standard Scaler her, as we see values are so near by. "
   ]
  },
  {
   "cell_type": "code",
   "execution_count": 103,
   "metadata": {},
   "outputs": [
    {
     "data": {
      "text/plain": [
       "(2035, 1)"
      ]
     },
     "execution_count": 103,
     "metadata": {},
     "output_type": "execute_result"
    }
   ],
   "source": [
    "# Feature Scaling\n",
    "from sklearn.preprocessing import MinMaxScaler\n",
    "scaler=MinMaxScaler(feature_range=(0,1))\n",
    "df2=scaler.fit_transform(np.array(dataframe).reshape(-1,1))\n",
    "df2.shape"
   ]
  },
  {
   "cell_type": "code",
   "execution_count": 104,
   "metadata": {},
   "outputs": [
    {
     "data": {
      "text/plain": [
       "array([[0.62418301],\n",
       "       [0.62214052],\n",
       "       [0.62622549],\n",
       "       ...,\n",
       "       [0.1621732 ],\n",
       "       [0.16319444],\n",
       "       [0.16584967]])"
      ]
     },
     "execution_count": 104,
     "metadata": {},
     "output_type": "execute_result"
    }
   ],
   "source": [
    "df2"
   ]
  },
  {
   "cell_type": "code",
   "execution_count": 105,
   "metadata": {},
   "outputs": [],
   "source": [
    "from sklearn.model_selection import train_test_split"
   ]
  },
  {
   "cell_type": "code",
   "execution_count": 106,
   "metadata": {},
   "outputs": [],
   "source": [
    "training_size=int(len(df2)*0.65)\n",
    "test_size=len(df2)-training_size\n",
    "train_data,test_data=df2[0:training_size,:], df2[training_size:len(df2),:1]"
   ]
  },
  {
   "cell_type": "code",
   "execution_count": 107,
   "metadata": {},
   "outputs": [],
   "source": [
    "# X_train,X_test= train_test_split(df2,test_size=0.35,random_state=10)"
   ]
  },
  {
   "cell_type": "code",
   "execution_count": 108,
   "metadata": {},
   "outputs": [
    {
     "data": {
      "text/plain": [
       "(1322, 713)"
      ]
     },
     "execution_count": 108,
     "metadata": {},
     "output_type": "execute_result"
    }
   ],
   "source": [
    "training_size,test_size"
   ]
  },
  {
   "cell_type": "code",
   "execution_count": 109,
   "metadata": {},
   "outputs": [],
   "source": [
    "# print(training_size.shape)\n",
    "# test_size.shape"
   ]
  },
  {
   "cell_type": "markdown",
   "metadata": {},
   "source": [
    "Function to split datasel into X_train,Y_train, X_test,_Y_test"
   ]
  },
  {
   "cell_type": "code",
   "execution_count": 110,
   "metadata": {},
   "outputs": [],
   "source": [
    "def x_y_data(data,timestep=1):\n",
    "      leng=len(data)\n",
    "      X=[]\n",
    "      Y=[]\n",
    "      for length in range(0, leng-timestep-1) :\n",
    "            X.append(data[length:(length+timestep),0])\n",
    "            Y.append(data[length+1,0])\n",
    "      return np.array(X),np.array(Y)"
   ]
  },
  {
   "cell_type": "code",
   "execution_count": 111,
   "metadata": {},
   "outputs": [],
   "source": [
    "timestep=100\n",
    "X_train,Y_train=x_y_data(train_data,timestep)\n",
    "X_test,Y_test=x_y_data(test_data,timestep)"
   ]
  },
  {
   "cell_type": "code",
   "execution_count": 112,
   "metadata": {},
   "outputs": [
    {
     "name": "stdout",
     "output_type": "stream",
     "text": [
      "(1221, 1)\n",
      "(612, 100)\n",
      "(1221, 100)\n",
      "(612, 100)\n",
      "(1221,)\n",
      "(612,)\n"
     ]
    }
   ],
   "source": [
    "# just for explorig what we got after splitting data set \n",
    "m=pd.DataFrame(Y_train)\n",
    "n=pd.DataFrame(X_test)\n",
    "print(m.shape)\n",
    "print(n.shape)\n",
    "print(X_train.shape)\n",
    "print(X_test.shape)\n",
    "print(Y_train.shape)\n",
    "print(Y_test.shape)"
   ]
  },
  {
   "cell_type": "markdown",
   "metadata": {},
   "source": [
    "Now as we have got our splitted dataset<br> lets go to LSTM model for training"
   ]
  },
  {
   "cell_type": "code",
   "execution_count": 113,
   "metadata": {},
   "outputs": [],
   "source": [
    "X_train=X_train.reshape(X_train.shape[0], X_train.shape[1], 1)\n",
    "X_test=X_test.reshape(X_test.shape[0], X_test.shape[1], 1)"
   ]
  },
  {
   "cell_type": "code",
   "execution_count": 114,
   "metadata": {},
   "outputs": [
    {
     "data": {
      "text/plain": [
       "(1221, 100, 1)"
      ]
     },
     "execution_count": 114,
     "metadata": {},
     "output_type": "execute_result"
    }
   ],
   "source": [
    "X_train.shape"
   ]
  },
  {
   "cell_type": "code",
   "execution_count": 115,
   "metadata": {},
   "outputs": [],
   "source": [
    "from tensorflow.keras.models import Sequential\n",
    "from tensorflow.keras.layers import Dense\n",
    "from tensorflow.keras.layers import LSTM"
   ]
  },
  {
   "cell_type": "code",
   "execution_count": 116,
   "metadata": {},
   "outputs": [],
   "source": [
    "model=Sequential()\n",
    "model.add(LSTM(50, return_sequences=True,input_shape=(100,1)))\n",
    "model.add(LSTM(50,return_sequences=True))\n",
    "model.add(LSTM(50))\n",
    "model.add(Dense(1))\n",
    "model.compile(loss='mean_squared_error',optimizer=\"adam\")"
   ]
  },
  {
   "cell_type": "code",
   "execution_count": 117,
   "metadata": {},
   "outputs": [
    {
     "name": "stdout",
     "output_type": "stream",
     "text": [
      "Model: \"sequential_3\"\n",
      "_________________________________________________________________\n",
      "Layer (type)                 Output Shape              Param #   \n",
      "=================================================================\n",
      "lstm_9 (LSTM)                (None, 100, 50)           10400     \n",
      "_________________________________________________________________\n",
      "lstm_10 (LSTM)               (None, 100, 50)           20200     \n",
      "_________________________________________________________________\n",
      "lstm_11 (LSTM)               (None, 50)                20200     \n",
      "_________________________________________________________________\n",
      "dense_3 (Dense)              (None, 1)                 51        \n",
      "=================================================================\n",
      "Total params: 50,851\n",
      "Trainable params: 50,851\n",
      "Non-trainable params: 0\n",
      "_________________________________________________________________\n"
     ]
    }
   ],
   "source": [
    "model.summary()"
   ]
  },
  {
   "cell_type": "code",
   "execution_count": 133,
   "metadata": {},
   "outputs": [
    {
     "name": "stdout",
     "output_type": "stream",
     "text": [
      "Epoch 1/200\n",
      "82/82 [==============================] - 2s 22ms/step - loss: 0.3031 - val_loss: 0.0541\n",
      "Epoch 2/200\n",
      "82/82 [==============================] - 2s 21ms/step - loss: 0.0332 - val_loss: 0.0480\n",
      "Epoch 3/200\n",
      "82/82 [==============================] - 2s 21ms/step - loss: 0.0044 - val_loss: 0.2415\n",
      "Epoch 4/200\n",
      "82/82 [==============================] - 2s 21ms/step - loss: 0.0012 - val_loss: 0.3306\n",
      "Epoch 5/200\n",
      "82/82 [==============================] - 2s 22ms/step - loss: 0.0047 - val_loss: 0.0025\n",
      "Epoch 6/200\n",
      "82/82 [==============================] - 2s 22ms/step - loss: 0.0028 - val_loss: 0.0028\n",
      "Epoch 7/200\n",
      "82/82 [==============================] - 2s 22ms/step - loss: 0.0028 - val_loss: 0.0092\n",
      "Epoch 8/200\n",
      "82/82 [==============================] - 2s 21ms/step - loss: 0.0023 - val_loss: 0.0028\n",
      "Epoch 9/200\n",
      "82/82 [==============================] - 2s 21ms/step - loss: 0.0022 - val_loss: 0.0059\n",
      "Epoch 10/200\n",
      "82/82 [==============================] - 2s 21ms/step - loss: 0.0012 - val_loss: 0.0019\n",
      "Epoch 11/200\n",
      "82/82 [==============================] - 2s 22ms/step - loss: 0.0011 - val_loss: 5.3743e-04\n",
      "Epoch 12/200\n",
      "82/82 [==============================] - 2s 21ms/step - loss: 9.8465e-04 - val_loss: 9.2413e-04\n",
      "Epoch 13/200\n",
      "82/82 [==============================] - 2s 21ms/step - loss: 0.0013 - val_loss: 0.0029\n",
      "Epoch 14/200\n",
      "82/82 [==============================] - 2s 21ms/step - loss: 0.0026 - val_loss: 0.0047\n",
      "Epoch 15/200\n",
      "82/82 [==============================] - 2s 21ms/step - loss: 0.0025 - val_loss: 0.0011\n",
      "Epoch 16/200\n",
      "82/82 [==============================] - 2s 21ms/step - loss: 0.0049 - val_loss: 0.0017\n",
      "Epoch 17/200\n",
      "82/82 [==============================] - 2s 22ms/step - loss: 0.0050 - val_loss: 0.0024\n",
      "Epoch 18/200\n",
      "82/82 [==============================] - 2s 21ms/step - loss: 0.0046 - val_loss: 0.0042\n",
      "Epoch 19/200\n",
      "82/82 [==============================] - 2s 22ms/step - loss: 0.0045 - val_loss: 0.0032\n",
      "Epoch 20/200\n",
      "82/82 [==============================] - 2s 21ms/step - loss: 0.0043 - val_loss: 0.0033\n",
      "Epoch 21/200\n",
      "82/82 [==============================] - 2s 21ms/step - loss: 0.0046 - val_loss: 0.0031\n",
      "Epoch 22/200\n",
      "82/82 [==============================] - 2s 22ms/step - loss: 0.0047 - val_loss: 0.0018\n",
      "Epoch 23/200\n",
      "82/82 [==============================] - 2s 22ms/step - loss: 0.0052 - val_loss: 0.0070\n",
      "Epoch 24/200\n",
      "82/82 [==============================] - 2s 21ms/step - loss: 0.0048 - val_loss: 0.0039\n",
      "Epoch 25/200\n",
      "82/82 [==============================] - 2s 22ms/step - loss: 0.0051 - val_loss: 0.0042\n",
      "Epoch 26/200\n",
      "82/82 [==============================] - 2s 22ms/step - loss: 0.0050 - val_loss: 0.0044\n",
      "Epoch 27/200\n",
      "82/82 [==============================] - 2s 22ms/step - loss: 0.0050 - val_loss: 0.0037\n",
      "Epoch 28/200\n",
      "82/82 [==============================] - 2s 22ms/step - loss: 0.0047 - val_loss: 0.0024\n",
      "Epoch 29/200\n",
      "82/82 [==============================] - 2s 22ms/step - loss: 0.0050 - val_loss: 0.0056\n",
      "Epoch 30/200\n",
      "82/82 [==============================] - 2s 22ms/step - loss: 0.0051 - val_loss: 0.0053\n",
      "Epoch 31/200\n",
      "82/82 [==============================] - 2s 22ms/step - loss: 0.0047 - val_loss: 0.0077\n",
      "Epoch 32/200\n",
      "82/82 [==============================] - 2s 23ms/step - loss: 0.0041 - val_loss: 0.0031\n",
      "Epoch 33/200\n",
      "82/82 [==============================] - 2s 22ms/step - loss: 0.0038 - val_loss: 0.0272\n",
      "Epoch 34/200\n",
      "82/82 [==============================] - 2s 22ms/step - loss: 0.0020 - val_loss: 0.0062\n",
      "Epoch 35/200\n",
      "82/82 [==============================] - 2s 22ms/step - loss: 0.0016 - val_loss: 0.0061\n",
      "Epoch 36/200\n",
      "82/82 [==============================] - 2s 22ms/step - loss: 0.0013 - val_loss: 0.0032\n",
      "Epoch 37/200\n",
      "82/82 [==============================] - 2s 22ms/step - loss: 6.3754e-04 - val_loss: 0.0034\n",
      "Epoch 38/200\n",
      "82/82 [==============================] - 2s 22ms/step - loss: 3.2773e-04 - val_loss: 0.0024\n",
      "Epoch 39/200\n",
      "82/82 [==============================] - 2s 22ms/step - loss: 3.8914e-04 - val_loss: 0.0023\n",
      "Epoch 40/200\n",
      "82/82 [==============================] - 2s 22ms/step - loss: 6.6373e-04 - val_loss: 0.0030\n",
      "Epoch 41/200\n",
      "82/82 [==============================] - 2s 22ms/step - loss: 9.5545e-04 - val_loss: 0.0033\n",
      "Epoch 42/200\n",
      "82/82 [==============================] - 2s 22ms/step - loss: 0.0010 - val_loss: 0.0043\n",
      "Epoch 43/200\n",
      "82/82 [==============================] - 2s 22ms/step - loss: 0.0052 - val_loss: 0.0129\n",
      "Epoch 44/200\n",
      "82/82 [==============================] - 2s 22ms/step - loss: 0.0016 - val_loss: 0.0146\n",
      "Epoch 45/200\n",
      "82/82 [==============================] - 2s 22ms/step - loss: 0.0015 - val_loss: 0.0068\n",
      "Epoch 46/200\n",
      "82/82 [==============================] - 2s 23ms/step - loss: 0.0012 - val_loss: 0.0074\n",
      "Epoch 47/200\n",
      "82/82 [==============================] - 2s 22ms/step - loss: 0.0022 - val_loss: 0.0109\n",
      "Epoch 48/200\n",
      "82/82 [==============================] - 2s 22ms/step - loss: 0.0028 - val_loss: 0.0139\n",
      "Epoch 49/200\n",
      "82/82 [==============================] - 2s 22ms/step - loss: 0.0022 - val_loss: 0.0063\n",
      "Epoch 50/200\n",
      "82/82 [==============================] - 2s 22ms/step - loss: 0.0015 - val_loss: 0.0049\n",
      "Epoch 51/200\n",
      "82/82 [==============================] - 2s 22ms/step - loss: 0.0015 - val_loss: 0.0076\n",
      "Epoch 52/200\n",
      "82/82 [==============================] - 2s 22ms/step - loss: 0.0015 - val_loss: 0.0030\n",
      "Epoch 53/200\n",
      "82/82 [==============================] - 2s 22ms/step - loss: 0.0019 - val_loss: 0.0033\n",
      "Epoch 54/200\n",
      "82/82 [==============================] - 2s 22ms/step - loss: 0.0018 - val_loss: 0.0031\n",
      "Epoch 55/200\n",
      "82/82 [==============================] - 2s 22ms/step - loss: 0.0017 - val_loss: 0.0051\n",
      "Epoch 56/200\n",
      "82/82 [==============================] - 2s 22ms/step - loss: 0.0017 - val_loss: 0.0101\n",
      "Epoch 57/200\n",
      "82/82 [==============================] - 2s 22ms/step - loss: 0.0034 - val_loss: 0.0119\n",
      "Epoch 58/200\n",
      "82/82 [==============================] - 2s 22ms/step - loss: 0.0036 - val_loss: 0.0147\n",
      "Epoch 59/200\n",
      "82/82 [==============================] - 2s 22ms/step - loss: 0.0026 - val_loss: 0.0012\n",
      "Epoch 60/200\n",
      "82/82 [==============================] - 2s 22ms/step - loss: 0.0016 - val_loss: 0.0037\n",
      "Epoch 61/200\n",
      "82/82 [==============================] - 2s 22ms/step - loss: 0.0012 - val_loss: 0.0050\n",
      "Epoch 62/200\n",
      "82/82 [==============================] - 2s 22ms/step - loss: 0.0016 - val_loss: 0.0044\n",
      "Epoch 63/200\n",
      "82/82 [==============================] - 2s 22ms/step - loss: 0.0016 - val_loss: 0.0067\n",
      "Epoch 64/200\n",
      "82/82 [==============================] - 2s 22ms/step - loss: 0.0014 - val_loss: 0.0018\n",
      "Epoch 65/200\n",
      "82/82 [==============================] - 2s 22ms/step - loss: 0.0020 - val_loss: 0.0060\n",
      "Epoch 66/200\n",
      "82/82 [==============================] - 2s 22ms/step - loss: 0.0013 - val_loss: 0.0104\n",
      "Epoch 67/200\n",
      "82/82 [==============================] - 2s 22ms/step - loss: 9.5983e-04 - val_loss: 0.0013\n",
      "Epoch 68/200\n",
      "82/82 [==============================] - 2s 22ms/step - loss: 0.0012 - val_loss: 0.0030\n",
      "Epoch 69/200\n",
      "82/82 [==============================] - 2s 22ms/step - loss: 0.0039 - val_loss: 0.0066\n",
      "Epoch 70/200\n",
      "82/82 [==============================] - 2s 22ms/step - loss: 0.0025 - val_loss: 0.0033\n",
      "Epoch 71/200\n",
      "82/82 [==============================] - 2s 22ms/step - loss: 0.0015 - val_loss: 0.0059\n",
      "Epoch 72/200\n",
      "82/82 [==============================] - 2s 22ms/step - loss: 0.0011 - val_loss: 0.0015\n",
      "Epoch 73/200\n",
      "82/82 [==============================] - 2s 22ms/step - loss: 0.0013 - val_loss: 8.0162e-04\n",
      "Epoch 74/200\n",
      "82/82 [==============================] - 2s 22ms/step - loss: 0.0017 - val_loss: 0.0048\n",
      "Epoch 75/200\n",
      "82/82 [==============================] - 2s 22ms/step - loss: 0.0023 - val_loss: 0.0082\n",
      "Epoch 76/200\n",
      "82/82 [==============================] - 2s 22ms/step - loss: 0.0021 - val_loss: 0.0082\n",
      "Epoch 77/200\n",
      "82/82 [==============================] - 2s 22ms/step - loss: 0.0025 - val_loss: 0.0179\n",
      "Epoch 78/200\n",
      "82/82 [==============================] - 2s 22ms/step - loss: 0.0037 - val_loss: 0.0262\n",
      "Epoch 79/200\n",
      "82/82 [==============================] - 2s 22ms/step - loss: 0.0024 - val_loss: 0.0117\n",
      "Epoch 80/200\n",
      "82/82 [==============================] - 2s 22ms/step - loss: 0.0023 - val_loss: 0.0132\n",
      "Epoch 81/200\n",
      "82/82 [==============================] - 2s 22ms/step - loss: 0.0019 - val_loss: 0.0088\n",
      "Epoch 82/200\n",
      "82/82 [==============================] - 2s 22ms/step - loss: 0.0020 - val_loss: 0.0130\n",
      "Epoch 83/200\n",
      "82/82 [==============================] - 2s 22ms/step - loss: 0.0027 - val_loss: 0.0110\n",
      "Epoch 84/200\n",
      "82/82 [==============================] - 2s 22ms/step - loss: 0.0018 - val_loss: 0.0087\n",
      "Epoch 85/200\n",
      "82/82 [==============================] - 2s 22ms/step - loss: 0.0015 - val_loss: 0.0195\n",
      "Epoch 86/200\n",
      "82/82 [==============================] - 2s 22ms/step - loss: 0.0015 - val_loss: 0.0046\n",
      "Epoch 87/200\n",
      "82/82 [==============================] - 2s 22ms/step - loss: 0.0016 - val_loss: 9.7263e-04\n",
      "Epoch 88/200\n",
      "82/82 [==============================] - 2s 22ms/step - loss: 0.0039 - val_loss: 0.0175\n",
      "Epoch 89/200\n",
      "82/82 [==============================] - 2s 22ms/step - loss: 0.0030 - val_loss: 0.0068\n",
      "Epoch 90/200\n",
      "82/82 [==============================] - 2s 22ms/step - loss: 0.0018 - val_loss: 0.0033\n",
      "Epoch 91/200\n",
      "82/82 [==============================] - 2s 22ms/step - loss: 0.0010 - val_loss: 0.0118\n",
      "Epoch 92/200\n",
      "82/82 [==============================] - 2s 22ms/step - loss: 0.0038 - val_loss: 0.0160\n",
      "Epoch 93/200\n",
      "82/82 [==============================] - 2s 22ms/step - loss: 0.0023 - val_loss: 0.0067\n",
      "Epoch 94/200\n",
      "82/82 [==============================] - 2s 22ms/step - loss: 0.0022 - val_loss: 0.0052\n",
      "Epoch 95/200\n",
      "82/82 [==============================] - 2s 22ms/step - loss: 9.5670e-04 - val_loss: 0.0034\n",
      "Epoch 96/200\n",
      "82/82 [==============================] - 2s 24ms/step - loss: 0.0017 - val_loss: 0.0018\n",
      "Epoch 97/200\n",
      "82/82 [==============================] - 2s 22ms/step - loss: 0.0017 - val_loss: 0.0011\n",
      "Epoch 98/200\n",
      "82/82 [==============================] - 2s 22ms/step - loss: 0.0020 - val_loss: 0.0069\n",
      "Epoch 99/200\n",
      "82/82 [==============================] - 2s 22ms/step - loss: 0.0024 - val_loss: 0.0064\n",
      "Epoch 100/200\n",
      "82/82 [==============================] - 2s 22ms/step - loss: 0.0021 - val_loss: 0.0068\n",
      "Epoch 101/200\n",
      "82/82 [==============================] - 2s 22ms/step - loss: 0.0016 - val_loss: 0.0055\n",
      "Epoch 102/200\n",
      "82/82 [==============================] - 2s 22ms/step - loss: 0.0011 - val_loss: 0.0058\n",
      "Epoch 103/200\n",
      "82/82 [==============================] - 2s 22ms/step - loss: 0.0013 - val_loss: 0.0069\n",
      "Epoch 104/200\n",
      "82/82 [==============================] - 2s 22ms/step - loss: 0.0021 - val_loss: 0.0054\n",
      "Epoch 105/200\n",
      "82/82 [==============================] - 2s 22ms/step - loss: 0.0013 - val_loss: 0.0019\n",
      "Epoch 106/200\n",
      "82/82 [==============================] - 2s 22ms/step - loss: 6.9506e-04 - val_loss: 7.5999e-04\n",
      "Epoch 107/200\n",
      "82/82 [==============================] - 2s 22ms/step - loss: 2.8500e-04 - val_loss: 8.5318e-04\n",
      "Epoch 108/200\n",
      "82/82 [==============================] - 2s 22ms/step - loss: 9.0970e-04 - val_loss: 0.0015\n",
      "Epoch 109/200\n",
      "82/82 [==============================] - 2s 22ms/step - loss: 0.0016 - val_loss: 0.0056\n",
      "Epoch 110/200\n",
      "82/82 [==============================] - 2s 22ms/step - loss: 0.0013 - val_loss: 0.0050\n",
      "Epoch 111/200\n",
      "82/82 [==============================] - 2s 22ms/step - loss: 0.0012 - val_loss: 0.0041\n",
      "Epoch 112/200\n",
      "82/82 [==============================] - 2s 22ms/step - loss: 0.0023 - val_loss: 0.0027\n",
      "Epoch 113/200\n",
      "82/82 [==============================] - 2s 22ms/step - loss: 6.6968e-04 - val_loss: 0.0021\n",
      "Epoch 114/200\n",
      "82/82 [==============================] - 2s 22ms/step - loss: 7.2628e-04 - val_loss: 0.0048\n",
      "Epoch 115/200\n",
      "82/82 [==============================] - 2s 22ms/step - loss: 0.0014 - val_loss: 0.0043\n",
      "Epoch 116/200\n",
      "82/82 [==============================] - 2s 22ms/step - loss: 0.0010 - val_loss: 0.0018\n",
      "Epoch 117/200\n",
      "82/82 [==============================] - 2s 22ms/step - loss: 8.0019e-04 - val_loss: 0.0023\n",
      "Epoch 118/200\n",
      "82/82 [==============================] - 2s 22ms/step - loss: 5.8551e-04 - val_loss: 0.0021\n",
      "Epoch 119/200\n",
      "82/82 [==============================] - 2s 22ms/step - loss: 0.0013 - val_loss: 0.0045\n",
      "Epoch 120/200\n",
      "82/82 [==============================] - 2s 22ms/step - loss: 0.0012 - val_loss: 0.0066\n",
      "Epoch 121/200\n",
      "82/82 [==============================] - 2s 21ms/step - loss: 0.0019 - val_loss: 0.0054\n",
      "Epoch 122/200\n",
      "82/82 [==============================] - 2s 22ms/step - loss: 0.0015 - val_loss: 0.0093\n",
      "Epoch 123/200\n",
      "82/82 [==============================] - 2s 22ms/step - loss: 0.0012 - val_loss: 0.0067\n",
      "Epoch 124/200\n",
      "82/82 [==============================] - 2s 22ms/step - loss: 6.5240e-04 - val_loss: 0.0033\n",
      "Epoch 125/200\n",
      "82/82 [==============================] - 2s 22ms/step - loss: 8.0158e-04 - val_loss: 0.0038\n",
      "Epoch 126/200\n",
      "82/82 [==============================] - 2s 22ms/step - loss: 0.0010 - val_loss: 0.0021\n",
      "Epoch 127/200\n",
      "82/82 [==============================] - 2s 22ms/step - loss: 6.1169e-04 - val_loss: 0.0031\n",
      "Epoch 128/200\n",
      "82/82 [==============================] - 2s 22ms/step - loss: 9.0790e-04 - val_loss: 0.0037\n",
      "Epoch 129/200\n",
      "82/82 [==============================] - 2s 22ms/step - loss: 9.0775e-04 - val_loss: 0.0039\n",
      "Epoch 130/200\n",
      "82/82 [==============================] - 2s 23ms/step - loss: 0.0016 - val_loss: 0.0028\n",
      "Epoch 131/200\n",
      "82/82 [==============================] - 2s 22ms/step - loss: 0.0013 - val_loss: 0.0057\n",
      "Epoch 132/200\n",
      "82/82 [==============================] - 2s 22ms/step - loss: 0.0014 - val_loss: 7.2981e-04\n",
      "Epoch 133/200\n",
      "82/82 [==============================] - 2s 22ms/step - loss: 0.0015 - val_loss: 0.0050\n",
      "Epoch 134/200\n",
      "82/82 [==============================] - 2s 22ms/step - loss: 8.5953e-04 - val_loss: 0.0038\n",
      "Epoch 135/200\n",
      "82/82 [==============================] - 2s 22ms/step - loss: 5.8669e-04 - val_loss: 0.0037\n",
      "Epoch 136/200\n",
      "82/82 [==============================] - 2s 22ms/step - loss: 0.0016 - val_loss: 0.0055\n",
      "Epoch 137/200\n",
      "82/82 [==============================] - 2s 22ms/step - loss: 0.0021 - val_loss: 0.0054\n",
      "Epoch 138/200\n",
      "82/82 [==============================] - 2s 22ms/step - loss: 8.8953e-04 - val_loss: 0.0054\n",
      "Epoch 139/200\n",
      "82/82 [==============================] - 2s 22ms/step - loss: 5.1547e-04 - val_loss: 0.0041\n",
      "Epoch 140/200\n",
      "82/82 [==============================] - 2s 22ms/step - loss: 5.5985e-04 - val_loss: 0.0036\n",
      "Epoch 141/200\n",
      "82/82 [==============================] - 2s 22ms/step - loss: 0.0016 - val_loss: 0.0039\n",
      "Epoch 142/200\n",
      "82/82 [==============================] - 2s 22ms/step - loss: 8.4351e-04 - val_loss: 0.0036\n",
      "Epoch 143/200\n",
      "82/82 [==============================] - 2s 22ms/step - loss: 9.5864e-04 - val_loss: 0.0036\n",
      "Epoch 144/200\n",
      "82/82 [==============================] - 2s 22ms/step - loss: 6.6254e-04 - val_loss: 0.0039\n",
      "Epoch 145/200\n",
      "82/82 [==============================] - 2s 22ms/step - loss: 0.0010 - val_loss: 0.0037\n",
      "Epoch 146/200\n",
      "82/82 [==============================] - 2s 22ms/step - loss: 0.0011 - val_loss: 0.0029\n",
      "Epoch 147/200\n",
      "82/82 [==============================] - 2s 22ms/step - loss: 0.0010 - val_loss: 0.0031\n",
      "Epoch 148/200\n",
      "82/82 [==============================] - 2s 22ms/step - loss: 0.0010 - val_loss: 0.0046\n",
      "Epoch 149/200\n",
      "82/82 [==============================] - 2s 21ms/step - loss: 5.1625e-04 - val_loss: 0.0028\n",
      "Epoch 150/200\n",
      "82/82 [==============================] - 2s 22ms/step - loss: 3.1032e-04 - val_loss: 0.0023\n",
      "Epoch 151/200\n",
      "82/82 [==============================] - 2s 22ms/step - loss: 6.2458e-04 - val_loss: 0.0026\n",
      "Epoch 152/200\n",
      "82/82 [==============================] - 2s 22ms/step - loss: 0.0011 - val_loss: 0.0040\n",
      "Epoch 153/200\n",
      "82/82 [==============================] - 2s 22ms/step - loss: 0.0016 - val_loss: 0.0029\n",
      "Epoch 154/200\n",
      "82/82 [==============================] - 2s 22ms/step - loss: 0.0019 - val_loss: 0.0038\n",
      "Epoch 155/200\n",
      "82/82 [==============================] - 2s 22ms/step - loss: 6.4372e-04 - val_loss: 0.0035\n",
      "Epoch 156/200\n",
      "82/82 [==============================] - 2s 22ms/step - loss: 0.0011 - val_loss: 0.0031\n",
      "Epoch 157/200\n",
      "82/82 [==============================] - 2s 22ms/step - loss: 0.0025 - val_loss: 0.0037\n",
      "Epoch 158/200\n",
      "82/82 [==============================] - 2s 22ms/step - loss: 0.0012 - val_loss: 0.0041\n",
      "Epoch 159/200\n",
      "82/82 [==============================] - 2s 22ms/step - loss: 7.9659e-04 - val_loss: 0.0031\n",
      "Epoch 160/200\n",
      "82/82 [==============================] - 2s 22ms/step - loss: 0.0013 - val_loss: 0.0043\n",
      "Epoch 161/200\n",
      "82/82 [==============================] - 2s 22ms/step - loss: 4.9646e-04 - val_loss: 0.0041\n",
      "Epoch 162/200\n",
      "82/82 [==============================] - 2s 22ms/step - loss: 5.9361e-04 - val_loss: 0.0030\n",
      "Epoch 163/200\n",
      "82/82 [==============================] - 2s 22ms/step - loss: 9.8717e-04 - val_loss: 0.0040\n",
      "Epoch 164/200\n",
      "82/82 [==============================] - 2s 22ms/step - loss: 0.0014 - val_loss: 0.0037\n",
      "Epoch 165/200\n",
      "82/82 [==============================] - 2s 22ms/step - loss: 7.4986e-04 - val_loss: 0.0026\n",
      "Epoch 166/200\n",
      "82/82 [==============================] - 2s 21ms/step - loss: 7.0896e-04 - val_loss: 0.0025\n",
      "Epoch 167/200\n",
      "82/82 [==============================] - 2s 22ms/step - loss: 7.7680e-04 - val_loss: 0.0042\n",
      "Epoch 168/200\n",
      "82/82 [==============================] - 2s 22ms/step - loss: 9.3322e-04 - val_loss: 0.0032\n",
      "Epoch 169/200\n",
      "82/82 [==============================] - 2s 22ms/step - loss: 8.0348e-04 - val_loss: 0.0046\n",
      "Epoch 170/200\n",
      "82/82 [==============================] - 2s 22ms/step - loss: 0.0011 - val_loss: 0.0033\n",
      "Epoch 171/200\n",
      "82/82 [==============================] - 2s 22ms/step - loss: 0.0015 - val_loss: 0.0044\n",
      "Epoch 172/200\n",
      "82/82 [==============================] - 2s 22ms/step - loss: 7.4464e-04 - val_loss: 0.0037\n",
      "Epoch 173/200\n",
      "82/82 [==============================] - 2s 22ms/step - loss: 3.7579e-04 - val_loss: 0.0022\n",
      "Epoch 174/200\n",
      "82/82 [==============================] - 2s 22ms/step - loss: 8.3657e-04 - val_loss: 0.0027\n",
      "Epoch 175/200\n",
      "82/82 [==============================] - 2s 22ms/step - loss: 8.0635e-04 - val_loss: 0.0043\n",
      "Epoch 176/200\n",
      "82/82 [==============================] - 2s 22ms/step - loss: 8.3468e-04 - val_loss: 0.0032\n",
      "Epoch 177/200\n",
      "82/82 [==============================] - 2s 22ms/step - loss: 4.2729e-04 - val_loss: 0.0036\n",
      "Epoch 178/200\n",
      "82/82 [==============================] - 2s 22ms/step - loss: 5.6982e-04 - val_loss: 0.0031\n",
      "Epoch 179/200\n",
      "82/82 [==============================] - 2s 22ms/step - loss: 5.1266e-04 - val_loss: 0.0036\n",
      "Epoch 180/200\n",
      "82/82 [==============================] - 2s 22ms/step - loss: 5.5701e-04 - val_loss: 0.0039\n",
      "Epoch 181/200\n",
      "82/82 [==============================] - 2s 22ms/step - loss: 3.9466e-04 - val_loss: 0.0031\n",
      "Epoch 182/200\n",
      "82/82 [==============================] - 2s 22ms/step - loss: 6.0214e-04 - val_loss: 0.0025\n",
      "Epoch 183/200\n",
      "82/82 [==============================] - 2s 22ms/step - loss: 9.4915e-04 - val_loss: 0.0043\n",
      "Epoch 184/200\n",
      "82/82 [==============================] - 2s 22ms/step - loss: 9.9537e-04 - val_loss: 0.0040\n",
      "Epoch 185/200\n",
      "82/82 [==============================] - 2s 22ms/step - loss: 4.9287e-04 - val_loss: 0.0026\n",
      "Epoch 186/200\n",
      "82/82 [==============================] - 2s 22ms/step - loss: 5.9179e-04 - val_loss: 0.0031\n",
      "Epoch 187/200\n",
      "82/82 [==============================] - 2s 22ms/step - loss: 0.0014 - val_loss: 0.0030\n",
      "Epoch 188/200\n",
      "82/82 [==============================] - 2s 23ms/step - loss: 0.0019 - val_loss: 0.0047\n",
      "Epoch 189/200\n",
      "82/82 [==============================] - 2s 22ms/step - loss: 0.0016 - val_loss: 0.0049\n",
      "Epoch 190/200\n",
      "82/82 [==============================] - 2s 22ms/step - loss: 8.9617e-04 - val_loss: 0.0054\n",
      "Epoch 191/200\n",
      "82/82 [==============================] - 2s 22ms/step - loss: 9.9862e-04 - val_loss: 0.0061\n",
      "Epoch 192/200\n",
      "82/82 [==============================] - 2s 22ms/step - loss: 3.1889e-04 - val_loss: 0.0028\n",
      "Epoch 193/200\n",
      "82/82 [==============================] - 2s 23ms/step - loss: 7.1213e-04 - val_loss: 0.0029\n",
      "Epoch 194/200\n",
      "82/82 [==============================] - 2s 22ms/step - loss: 9.5545e-04 - val_loss: 0.0036\n",
      "Epoch 195/200\n",
      "82/82 [==============================] - 2s 22ms/step - loss: 9.5547e-04 - val_loss: 0.0044\n",
      "Epoch 196/200\n",
      "82/82 [==============================] - 2s 22ms/step - loss: 9.3523e-04 - val_loss: 0.0026\n",
      "Epoch 197/200\n",
      "82/82 [==============================] - 2s 22ms/step - loss: 0.0013 - val_loss: 0.0038\n",
      "Epoch 198/200\n",
      "82/82 [==============================] - 2s 22ms/step - loss: 7.4724e-04 - val_loss: 0.0028\n",
      "Epoch 199/200\n",
      "82/82 [==============================] - 2s 23ms/step - loss: 0.0014 - val_loss: 0.0058\n",
      "Epoch 200/200\n",
      "82/82 [==============================] - 2s 22ms/step - loss: 0.0010 - val_loss: 0.0046\n"
     ]
    },
    {
     "data": {
      "text/plain": [
       "<tensorflow.python.keras.callbacks.History at 0x280b49dc0>"
      ]
     },
     "execution_count": 133,
     "metadata": {},
     "output_type": "execute_result"
    }
   ],
   "source": [
    "model.fit(X_train,Y_train,validation_data=(X_test,Y_test),epochs=200,batch_size=15,verbose=1)"
   ]
  },
  {
   "cell_type": "code",
   "execution_count": 134,
   "metadata": {},
   "outputs": [],
   "source": [
    "train_predict=model.predict(X_train)\n",
    "test_predict=model.predict(X_test)"
   ]
  },
  {
   "cell_type": "code",
   "execution_count": 135,
   "metadata": {},
   "outputs": [],
   "source": [
    "train_predict=scaler.inverse_transform(train_predict)\n",
    "test_predict=scaler.inverse_transform(test_predict)"
   ]
  },
  {
   "cell_type": "code",
   "execution_count": 136,
   "metadata": {},
   "outputs": [
    {
     "data": {
      "text/plain": [
       "177.67501969421855"
      ]
     },
     "execution_count": 136,
     "metadata": {},
     "output_type": "execute_result"
    }
   ],
   "source": [
    "import math\n",
    "from sklearn.metrics import mean_squared_error\n",
    "math.sqrt(mean_squared_error(Y_train,train_predict))"
   ]
  },
  {
   "cell_type": "code",
   "execution_count": 137,
   "metadata": {},
   "outputs": [
    {
     "data": {
      "text/plain": [
       "128.15113205044105"
      ]
     },
     "execution_count": 137,
     "metadata": {},
     "output_type": "execute_result"
    }
   ],
   "source": [
    "math.sqrt(mean_squared_error(Y_test, test_predict))"
   ]
  },
  {
   "cell_type": "code",
   "execution_count": 138,
   "metadata": {},
   "outputs": [],
   "source": [
    "### Plotting\n",
    "\n",
    "look_back=100\n",
    "trainPredictPlot= np.empty_like(df2)\n",
    "trainPredictPlot[:,:]=np.nan\n",
    "trainPredictPlot[look_back:len(train_predict)+look_back,:] = train_predict\n",
    "\n",
    "\n",
    "testPredictPlot=np.empty_like(df2)\n",
    "testPredictPlot[:,:]=np.nan\n",
    "testPredictPlot[len(train_predict)+(look_back*2)+1:len(df2)-1,:]= test_predict"
   ]
  },
  {
   "cell_type": "code",
   "execution_count": 139,
   "metadata": {},
   "outputs": [
    {
     "data": {
      "image/png": "[encoded data removed]",
      "text/plain": [
       "<Figure size 432x288 with 1 Axes>"
      ]
     },
     "metadata": {
      "needs_background": "light"
     },
     "output_type": "display_data"
    }
   ],
   "source": [
    "plt.plot(scaler.inverse_transform(df2))\n",
    "plt.plot(trainPredictPlot)\n",
    "plt.plot(testPredictPlot)\n",
    "plt.show()"
   ]
  },
  {
   "cell_type": "code",
   "execution_count": null,
   "metadata": {},
   "outputs": [],
   "source": []
  },
  {
   "cell_type": "code",
   "execution_count": null,
   "metadata": {},
   "outputs": [],
   "source": []
  }
 ],
 "metadata": {
  "interpreter": {
   "hash": "985b34c8c0c0acd4105f03c6f1f0afc2bceef8452e49b305f4cf835a15ba0c7d"
  },
  "kernelspec": {
   "display_name": "Python 3.8.6 64-bit ('ml': conda)",
   "language": "python",
   "name": "python3"
  },
  "language_info": {
   "codemirror_mode": {
    "name": "ipython",
    "version": 3
   },
   "file_extension": ".py",
   "mimetype": "text/x-python",
   "name": "python",
   "nbconvert_exporter": "python",
   "pygments_lexer": "ipython3",
   "version": "3.8.6"
  },
  "orig_nbformat": 4
 },
 "nbformat": 4,
 "nbformat_minor": 2
}
